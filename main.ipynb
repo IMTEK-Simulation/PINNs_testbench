{
 "cells": [
  {
   "cell_type": "code",
   "execution_count": 1,
   "id": "2ac13045",
   "metadata": {},
   "outputs": [],
   "source": [
    "from oii import oi"
   ]
  },
  {
   "cell_type": "code",
   "execution_count": 2,
   "id": "d6e73e6e",
   "metadata": {},
   "outputs": [
    {
     "name": "stdout",
     "output_type": "stream",
     "text": [
      "Oi\n"
     ]
    }
   ],
   "source": [
    "oi(\"Oi\")"
   ]
  }
 ],
 "metadata": {
  "kernelspec": {
   "display_name": "MLset",
   "language": "python",
   "name": "python3"
  },
  "language_info": {
   "codemirror_mode": {
    "name": "ipython",
    "version": 3
   },
   "file_extension": ".py",
   "mimetype": "text/x-python",
   "name": "python",
   "nbconvert_exporter": "python",
   "pygments_lexer": "ipython3",
   "version": "3.9.21"
  }
 },
 "nbformat": 4,
 "nbformat_minor": 5
}
