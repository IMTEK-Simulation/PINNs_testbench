{
 "cells": [
  {
   "cell_type": "markdown",
   "id": "c11b9999",
   "metadata": {},
   "source": [
    "- find parameters using PINN\n",
    "- learn multiple functions with inputing boundary conditions\n",
    "- neural operators"
   ]
  }
 ],
 "metadata": {
  "language_info": {
   "name": "python"
  }
 },
 "nbformat": 4,
 "nbformat_minor": 5
}
